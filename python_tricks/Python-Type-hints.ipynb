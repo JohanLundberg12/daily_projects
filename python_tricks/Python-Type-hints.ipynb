{
 "cells": [
  {
   "cell_type": "markdown",
   "id": "8e46e66b",
   "metadata": {},
   "source": [
    "# Daily Dose of Data Science\n",
    "\n",
    "[10 Ways to Declare Type Hints in Python](https://www.blog.dailydoseofds.com/p/10-ways-to-declare-type-hints-in)"
   ]
  },
  {
   "cell_type": "markdown",
   "id": "84b0875b",
   "metadata": {},
   "source": [
    "## Type hints are not enforced!"
   ]
  },
  {
   "cell_type": "code",
   "execution_count": null,
   "id": "3e8ee0f3",
   "metadata": {},
   "outputs": [],
   "source": [
    "emp_name: str   = \"Alice\"\n",
    "\n",
    "emp_name = 10"
   ]
  },
  {
   "cell_type": "markdown",
   "id": "ecd54b44",
   "metadata": {},
   "source": [
    "## Type hints for standard Python objects "
   ]
  },
  {
   "cell_type": "code",
   "execution_count": null,
   "id": "393785b6",
   "metadata": {},
   "outputs": [],
   "source": [
    "emp_name: str   = \"Alice\"\n",
    "emp_year: int   = 1990\n",
    "emp_task: list  = []\n",
    "emp_proj: tuple = ()\n",
    "emp_info: dict  = {}"
   ]
  },
  {
   "cell_type": "code",
   "execution_count": null,
   "id": "7fbd736d",
   "metadata": {},
   "outputs": [],
   "source": [
    "from typing import List, Tuple, Dict\n",
    "\n",
    "emp_task: List[int]  = []      # List of strings\n",
    "emp_proj: Tuple[str] = ()      # Tuple of strings\n",
    "emp_info: Dict[int, str] = {}  # Dict from int to string"
   ]
  },
  {
   "cell_type": "markdown",
   "id": "a91e0199",
   "metadata": {},
   "source": [
    "## Multiple type hints for an object"
   ]
  },
  {
   "cell_type": "code",
   "execution_count": null,
   "id": "9809f7ea",
   "metadata": {},
   "outputs": [],
   "source": [
    "from typing import Union\n",
    "\n",
    "area: Union[int, float] = 1*1"
   ]
  },
  {
   "cell_type": "markdown",
   "id": "92b0e62e",
   "metadata": {},
   "source": [
    "## Type hints for iterable"
   ]
  },
  {
   "cell_type": "code",
   "execution_count": null,
   "id": "0a195e00",
   "metadata": {},
   "outputs": [],
   "source": [
    "from typing import Iterable\n",
    "\n",
    "def total_sum(arr: Iterable):\n",
    "    ..."
   ]
  },
  {
   "cell_type": "markdown",
   "id": "e7681e65",
   "metadata": {},
   "source": [
    "## Types hints for None values"
   ]
  },
  {
   "cell_type": "code",
   "execution_count": null,
   "id": "335a75e3",
   "metadata": {},
   "outputs": [],
   "source": [
    "from typing import Optional\n",
    "\n",
    "count: Optional[int] = 10"
   ]
  },
  {
   "cell_type": "markdown",
   "id": "f0776d3f",
   "metadata": {},
   "source": [
    "## Type hints for constant objects"
   ]
  },
  {
   "cell_type": "code",
   "execution_count": null,
   "id": "b62a4d23",
   "metadata": {},
   "outputs": [],
   "source": [
    "from typing import Final\n",
    "\n",
    "PI: Final = 3.1412"
   ]
  },
  {
   "cell_type": "markdown",
   "id": "ae55433d",
   "metadata": {},
   "source": [
    "## Type hints for fixed values"
   ]
  },
  {
   "cell_type": "code",
   "execution_count": null,
   "id": "87f71cf0",
   "metadata": {},
   "outputs": [],
   "source": [
    "from typing import Literal\n",
    "\n",
    "grade: Literal['A', 'B', 'C', 'F']\n",
    "\n",
    "grade = 'A'"
   ]
  },
  {
   "cell_type": "markdown",
   "id": "8cc50be9",
   "metadata": {},
   "source": [
    "## Type hints for objects with any possible value"
   ]
  },
  {
   "cell_type": "code",
   "execution_count": null,
   "id": "30ca9dd0",
   "metadata": {},
   "outputs": [],
   "source": [
    "from typing import Any\n",
    "\n",
    "data: Any = 10"
   ]
  },
  {
   "cell_type": "markdown",
   "id": "398a054b",
   "metadata": {},
   "source": [
    "## Type hints in functions"
   ]
  },
  {
   "cell_type": "code",
   "execution_count": null,
   "id": "fd953600",
   "metadata": {},
   "outputs": [],
   "source": [
    "def add_str(str1: str, str2: str) -> str:\n",
    "  \n",
    "  return string[::-1]"
   ]
  },
  {
   "cell_type": "markdown",
   "id": "8a2d4cf4",
   "metadata": {},
   "source": [
    "## Type hint of a function object"
   ]
  },
  {
   "cell_type": "code",
   "execution_count": null,
   "id": "0a28c927",
   "metadata": {},
   "outputs": [],
   "source": [
    "from typing import Callable\n",
    "\n",
    "def functionA(add_str: Callable) -> int:  \n",
    "    ..."
   ]
  },
  {
   "cell_type": "markdown",
   "id": "4a333437",
   "metadata": {},
   "source": [
    "## Type hint aliasing"
   ]
  },
  {
   "cell_type": "code",
   "execution_count": null,
   "id": "61eb396d",
   "metadata": {},
   "outputs": [],
   "source": [
    "InFloStr = Union[int, float, str]\n",
    "\n",
    "data: InFloStr = 10"
   ]
  },
  {
   "cell_type": "code",
   "execution_count": null,
   "id": "f4a12c00",
   "metadata": {},
   "outputs": [],
   "source": []
  }
 ],
 "metadata": {
  "kernelspec": {
   "display_name": "Python 3 (ipykernel)",
   "language": "python",
   "name": "python3"
  },
  "language_info": {
   "codemirror_mode": {
    "name": "ipython",
    "version": 3
   },
   "file_extension": ".py",
   "mimetype": "text/x-python",
   "name": "python",
   "nbconvert_exporter": "python",
   "pygments_lexer": "ipython3",
   "version": "3.9.13"
  },
  "toc": {
   "base_numbering": 1,
   "nav_menu": {},
   "number_sections": true,
   "sideBar": true,
   "skip_h1_title": false,
   "title_cell": "Table of Contents",
   "title_sidebar": "Contents",
   "toc_cell": false,
   "toc_position": {},
   "toc_section_display": true,
   "toc_window_display": false
  }
 },
 "nbformat": 4,
 "nbformat_minor": 5
}
