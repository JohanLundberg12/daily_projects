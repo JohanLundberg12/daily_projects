{
 "cells": [
  {
   "cell_type": "code",
   "execution_count": 3,
   "metadata": {},
   "outputs": [],
   "source": [
    "from manim import *\n",
    "\n",
    "from manim_ml.neural_network import Convolutional2DLayer, FeedForwardLayer, NeuralNetwork\n",
    "\n",
    "# This changes the resolution of our rendered videos\n",
    "config.pixel_height = 700\n",
    "config.pixel_width = 1900\n",
    "config.frame_height = 7.0\n",
    "config.frame_width = 7.0\n",
    "\n",
    "# Here we define our basic scene\n",
    "class BasicScene(ThreeDScene):\n",
    "\n",
    "    # The code for generating our scene goes here\n",
    "    def construct(self):\n",
    "        # Make the neural network\n",
    "        nn = NeuralNetwork([\n",
    "                Convolutional2DLayer(1, 7, 3, filter_spacing=0.32),\n",
    "                Convolutional2DLayer(3, 5, 3, filter_spacing=0.32),\n",
    "                Convolutional2DLayer(5, 3, 3, filter_spacing=0.18),\n",
    "                FeedForwardLayer(3),\n",
    "                FeedForwardLayer(3),\n",
    "            ],\n",
    "            layer_spacing=0.25,\n",
    "        )\n",
    "        # Center the neural network\n",
    "        nn.move_to(ORIGIN)\n",
    "        self.add(nn)\n",
    "        # Make a forward pass animation\n",
    "        forward_pass = nn.make_forward_pass_animation()\n",
    "        # Play animation\n",
    "        self.play(forward_pass)"
   ]
  },
  {
   "cell_type": "code",
   "execution_count": null,
   "metadata": {},
   "outputs": [],
   "source": [
    "manim -pql BasicScene"
   ]
  },
  {
   "cell_type": "code",
   "execution_count": null,
   "metadata": {},
   "outputs": [],
   "source": []
  }
 ],
 "metadata": {
  "kernelspec": {
   "display_name": ".venv",
   "language": "python",
   "name": "python3"
  },
  "language_info": {
   "codemirror_mode": {
    "name": "ipython",
    "version": 3
   },
   "file_extension": ".py",
   "mimetype": "text/x-python",
   "name": "python",
   "nbconvert_exporter": "python",
   "pygments_lexer": "ipython3",
   "version": "3.8.10"
  }
 },
 "nbformat": 4,
 "nbformat_minor": 2
}
